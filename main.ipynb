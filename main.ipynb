{
 "cells": [
  {
   "cell_type": "markdown",
   "metadata": {
    "_cell_guid": "153984f6-0dab-4501-8c34-196186a7badf",
    "_uuid": "d0fddd9967023d5ab317f973170af04db01b02f8"
   },
   "source": [
    "# Wine Classification\n",
    "We try to classify wines to \"bad\" and \"good\" wines using Naive Bayes Classifier in order to explore the difference between words used to describe \"bad\" and \"good\".\n",
    "\n",
    "The notebook is also avaiable as a [GitHub repository](https://github.com/DostalJ/WineReviews)."
   ]
  },
  {
   "cell_type": "code",
   "execution_count": 1,
   "metadata": {
    "_cell_guid": "dcfb6bd5-b954-4cac-bb90-481f4c9e2f50",
    "_execution_state": "idle",
    "_uuid": "3b9c8d60897bb481b47ea18d627a866680ec99f8"
   },
   "outputs": [],
   "source": [
    "import pandas as pd\n",
    "from pandas import options\n",
    "from nltk.tokenize import word_tokenize\n",
    "import matplotlib.pyplot as plt\n",
    "from matplotlib.style import use\n",
    "use('ggplot')\n",
    "options.mode.chained_assignment = None  # default='warn'\n",
    "%load_ext Cython"
   ]
  },
  {
   "cell_type": "code",
   "execution_count": 2,
   "metadata": {
    "_cell_guid": "ac161278-8815-46ad-a752-933c0062c0b0",
    "_execution_state": "idle",
    "_uuid": "21a152ffe31436784997ceae1c35b100ba05aed4"
   },
   "outputs": [
    {
     "data": {
      "text/html": [
       "<div>\n",
       "<style>\n",
       "    .dataframe thead tr:only-child th {\n",
       "        text-align: right;\n",
       "    }\n",
       "\n",
       "    .dataframe thead th {\n",
       "        text-align: left;\n",
       "    }\n",
       "\n",
       "    .dataframe tbody tr th {\n",
       "        vertical-align: top;\n",
       "    }\n",
       "</style>\n",
       "<table border=\"1\" class=\"dataframe\">\n",
       "  <thead>\n",
       "    <tr style=\"text-align: right;\">\n",
       "      <th></th>\n",
       "      <th>Unnamed: 0</th>\n",
       "      <th>country</th>\n",
       "      <th>description</th>\n",
       "      <th>designation</th>\n",
       "      <th>points</th>\n",
       "      <th>price</th>\n",
       "      <th>province</th>\n",
       "      <th>region_1</th>\n",
       "      <th>region_2</th>\n",
       "      <th>variety</th>\n",
       "      <th>winery</th>\n",
       "    </tr>\n",
       "  </thead>\n",
       "  <tbody>\n",
       "    <tr>\n",
       "      <th>0</th>\n",
       "      <td>0</td>\n",
       "      <td>US</td>\n",
       "      <td>This tremendous 100% varietal wine hails from ...</td>\n",
       "      <td>Martha's Vineyard</td>\n",
       "      <td>96</td>\n",
       "      <td>235.0</td>\n",
       "      <td>California</td>\n",
       "      <td>Napa Valley</td>\n",
       "      <td>Napa</td>\n",
       "      <td>Cabernet Sauvignon</td>\n",
       "      <td>Heitz</td>\n",
       "    </tr>\n",
       "    <tr>\n",
       "      <th>1</th>\n",
       "      <td>1</td>\n",
       "      <td>Spain</td>\n",
       "      <td>Ripe aromas of fig, blackberry and cassis are ...</td>\n",
       "      <td>Carodorum Selección Especial Reserva</td>\n",
       "      <td>96</td>\n",
       "      <td>110.0</td>\n",
       "      <td>Northern Spain</td>\n",
       "      <td>Toro</td>\n",
       "      <td>NaN</td>\n",
       "      <td>Tinta de Toro</td>\n",
       "      <td>Bodega Carmen Rodríguez</td>\n",
       "    </tr>\n",
       "    <tr>\n",
       "      <th>2</th>\n",
       "      <td>2</td>\n",
       "      <td>US</td>\n",
       "      <td>Mac Watson honors the memory of a wine once ma...</td>\n",
       "      <td>Special Selected Late Harvest</td>\n",
       "      <td>96</td>\n",
       "      <td>90.0</td>\n",
       "      <td>California</td>\n",
       "      <td>Knights Valley</td>\n",
       "      <td>Sonoma</td>\n",
       "      <td>Sauvignon Blanc</td>\n",
       "      <td>Macauley</td>\n",
       "    </tr>\n",
       "    <tr>\n",
       "      <th>3</th>\n",
       "      <td>3</td>\n",
       "      <td>US</td>\n",
       "      <td>This spent 20 months in 30% new French oak, an...</td>\n",
       "      <td>Reserve</td>\n",
       "      <td>96</td>\n",
       "      <td>65.0</td>\n",
       "      <td>Oregon</td>\n",
       "      <td>Willamette Valley</td>\n",
       "      <td>Willamette Valley</td>\n",
       "      <td>Pinot Noir</td>\n",
       "      <td>Ponzi</td>\n",
       "    </tr>\n",
       "    <tr>\n",
       "      <th>4</th>\n",
       "      <td>4</td>\n",
       "      <td>France</td>\n",
       "      <td>This is the top wine from La Bégude, named aft...</td>\n",
       "      <td>La Brûlade</td>\n",
       "      <td>95</td>\n",
       "      <td>66.0</td>\n",
       "      <td>Provence</td>\n",
       "      <td>Bandol</td>\n",
       "      <td>NaN</td>\n",
       "      <td>Provence red blend</td>\n",
       "      <td>Domaine de la Bégude</td>\n",
       "    </tr>\n",
       "  </tbody>\n",
       "</table>\n",
       "</div>"
      ],
      "text/plain": [
       "   Unnamed: 0 country                                        description  \\\n",
       "0           0      US  This tremendous 100% varietal wine hails from ...   \n",
       "1           1   Spain  Ripe aromas of fig, blackberry and cassis are ...   \n",
       "2           2      US  Mac Watson honors the memory of a wine once ma...   \n",
       "3           3      US  This spent 20 months in 30% new French oak, an...   \n",
       "4           4  France  This is the top wine from La Bégude, named aft...   \n",
       "\n",
       "                            designation  points  price        province  \\\n",
       "0                     Martha's Vineyard      96  235.0      California   \n",
       "1  Carodorum Selección Especial Reserva      96  110.0  Northern Spain   \n",
       "2         Special Selected Late Harvest      96   90.0      California   \n",
       "3                               Reserve      96   65.0          Oregon   \n",
       "4                            La Brûlade      95   66.0        Provence   \n",
       "\n",
       "            region_1           region_2             variety  \\\n",
       "0        Napa Valley               Napa  Cabernet Sauvignon   \n",
       "1               Toro                NaN       Tinta de Toro   \n",
       "2     Knights Valley             Sonoma     Sauvignon Blanc   \n",
       "3  Willamette Valley  Willamette Valley          Pinot Noir   \n",
       "4             Bandol                NaN  Provence red blend   \n",
       "\n",
       "                    winery  \n",
       "0                    Heitz  \n",
       "1  Bodega Carmen Rodríguez  \n",
       "2                 Macauley  \n",
       "3                    Ponzi  \n",
       "4     Domaine de la Bégude  "
      ]
     },
     "execution_count": 2,
     "metadata": {},
     "output_type": "execute_result"
    }
   ],
   "source": [
    "df = pd.read_csv('./data/winemag-data_first150k.csv')\n",
    "df.head(5)"
   ]
  },
  {
   "cell_type": "code",
   "execution_count": 3,
   "metadata": {
    "_cell_guid": "68547d91-7aea-45e0-8fcf-a3e29eecbfe7",
    "_execution_state": "idle",
    "_uuid": "ff071faaebe17ee5f728f40516d4a44aaa18072f",
    "collapsed": true
   },
   "outputs": [],
   "source": [
    "# df['description'].apply(func=lambda text: len(word_tokenize(text))).hist()\n",
    "# plt.title('Number of words used to describe a wine.')\n",
    "# plt.xlabel('Number of words in description.')\n",
    "# plt.ylabel('Number of reviews.')\n",
    "# plt.show()"
   ]
  },
  {
   "cell_type": "markdown",
   "metadata": {
    "_cell_guid": "b5de19eb-49ee-4c98-856b-28f3b637e2c9",
    "_uuid": "455526f20785448c5817a2085b2e8114c39a9be5"
   },
   "source": [
    "### Data Features\n",
    "- *Points*: the number of points WineEnthusiast rated the wine on a scale of 1-100 (though they say they only post reviews for wines that score >=80)\n",
    "- *Variety*: the type of grapes used to make the wine (ie Pinot Noir)\n",
    "- *Description*: a few sentences from a sommelier describing the wine's taste, smell, look, feel, etc.\n",
    "- *Country*: the country that the wine is from\n",
    "- *Province*: the province or state that the wine is from\n",
    "- *Region 1*: the wine growing area in a province or state (ie Napa)\n",
    "- *Region 2*: sometimes there are more specific regions specified within a wine growing area (ie Rutherford inside the Napa Valley), but this value can sometimes be blank\n",
    "- *Winery*: the winery that made the wine\n",
    "- *Designation*: the vineyard within the winery where the grapes that made the wine are from\n",
    "- *Price*: the cost for a bottle of the wine"
   ]
  },
  {
   "cell_type": "markdown",
   "metadata": {
    "_cell_guid": "15fa7919-e099-4253-97e0-402a920c9c88",
    "_uuid": "3efd1e11e70a798d4df5d3658fe410da84ecd57f"
   },
   "source": [
    "### Explore feature distribution\n",
    "We are looking for good labels, i.e. indicators of quality of the wine. We'll explore *Points* and *Price* features."
   ]
  },
  {
   "cell_type": "code",
   "execution_count": 4,
   "metadata": {
    "_cell_guid": "646e8d8b-2389-4819-9e15-d5e19d3f0d71",
    "_execution_state": "idle",
    "_uuid": "14bdabcfc1826682f6390d1a360fe3cb0722d942"
   },
   "outputs": [
    {
     "data": {
      "image/png": "[encoded data removed]",
      "text/plain": [
       "<matplotlib.figure.Figure at 0x113a6ad68>"
      ]
     },
     "metadata": {},
     "output_type": "display_data"
    }
   ],
   "source": [
    "df = df.dropna(subset=['price', 'points'])\n",
    "df[['price', 'points']].hist(layout=(2,1))\n",
    "plt.show()"
   ]
  },
  {
   "cell_type": "code",
   "execution_count": 5,
   "metadata": {
    "_cell_guid": "cf681cb5-44c5-4dcf-b86a-ea1a89fdb904",
    "_execution_state": "idle",
    "_uuid": "c0edba923b1f722af51c568d6356ea9f4901b06c"
   },
   "outputs": [
    {
     "data": {
      "image/png": "[encoded data removed]",
      "text/plain": [
       "<matplotlib.figure.Figure at 0x10278be48>"
      ]
     },
     "metadata": {},
     "output_type": "display_data"
    }
   ],
   "source": [
    "plt.scatter(df['points'], df['price'])\n",
    "plt.xlabel('Points')\n",
    "plt.ylabel('Price')\n",
    "plt.show()"
   ]
  },
  {
   "cell_type": "markdown",
   "metadata": {
    "_cell_guid": "0c15f062-4f2f-4cbc-a341-e26c858a752a",
    "_uuid": "ef5b0645df3c15b52e4744b450338faa4d96d8c5"
   },
   "source": [
    "We can see that prize does not add much information. We'll use only *points* as the feature."
   ]
  },
  {
   "cell_type": "markdown",
   "metadata": {
    "_cell_guid": "0a53a13f-453e-4b89-a1cb-e2a2eb65abf7",
    "_uuid": "46d5130118893823edd7300f44c4de639f3d69ff"
   },
   "source": [
    "## Classification\n",
    "We'll try to classify the best wines and the worst wines in the dataset. We use 25% of wines with lowest number of points as *\"bad\"* wines and 25% of wines with the highest number of points as the *\"good\"* wines."
   ]
  },
  {
   "cell_type": "code",
   "execution_count": 6,
   "metadata": {
    "_cell_guid": "5d2aaa16-070e-464c-b8c9-4cf662b1d479",
    "_execution_state": "idle",
    "_uuid": "cd7d7d3a9afb5a887eda556bb755c28a15f3b63c",
    "collapsed": true
   },
   "outputs": [],
   "source": [
    "df = df.dropna(subset=['description'])  # drop all NaNs\n",
    "\n",
    "df_sorted = df.sort_values(by='points', ascending=True)  # sort by points\n",
    "\n",
    "num_of_wines = df_sorted.shape[0]  # number of wines\n",
    "worst = df_sorted.head(int(0.25*num_of_wines))  # 25 % of worst wines listed\n",
    "best = df_sorted.tail(int(0.25*num_of_wines))  # 25 % of best wines listed"
   ]
  },
  {
   "cell_type": "code",
   "execution_count": 7,
   "metadata": {
    "_cell_guid": "1072e4d3-e944-470d-ae90-43712f4ccb3f",
    "_execution_state": "idle",
    "_uuid": "0e7f46b7161e76e9fcaaf70879463aa1aa4054bf"
   },
   "outputs": [
    {
     "data": {
      "image/png": "[encoded data removed]",
      "text/plain": [
       "<matplotlib.figure.Figure at 0x10c940080>"
      ]
     },
     "metadata": {},
     "output_type": "display_data"
    }
   ],
   "source": [
    "plt.hist(df['points'], color='grey', label='All')\n",
    "plt.hist(worst['points'], color='blue', label='Worst')\n",
    "plt.hist(best['points'], color='red', label='Best')\n",
    "plt.legend()\n",
    "plt.show()"
   ]
  },
  {
   "cell_type": "code",
   "execution_count": 8,
   "metadata": {
    "_cell_guid": "b7953030-2b4b-4e9e-85c6-7b7a841ecdd8",
    "_execution_state": "idle",
    "_uuid": "be4da36d209c41e7fb179975a0d1679f90de6c1a",
    "collapsed": true
   },
   "outputs": [],
   "source": [
    "from nltk.tokenize import word_tokenize\n",
    "from nltk import FreqDist, NaiveBayesClassifier\n",
    "from random import shuffle"
   ]
  },
  {
   "cell_type": "markdown",
   "metadata": {
    "_cell_guid": "b43c4ff1-67c0-43e2-9b06-049b7fe0b0a0",
    "_uuid": "f51d5c3fa7b0bf83ebae35cb087d3199e08d8f8b"
   },
   "source": [
    "First we lower all words in description."
   ]
  },
  {
   "cell_type": "code",
   "execution_count": 9,
   "metadata": {
    "_cell_guid": "cbe22764-caa9-40df-94b2-ae68b4b7c320",
    "_execution_state": "idle",
    "_uuid": "8f291883b0c6a367afed455e9682dd4d15e07b53",
    "collapsed": true
   },
   "outputs": [],
   "source": [
    "worst['words'] = worst['description'].apply(func=lambda text: word_tokenize(text.lower()))\n",
    "best['words'] = best['description'].apply(func=lambda text: word_tokenize(text.lower()))\n",
    "worst = worst.dropna(subset=['words'])  # drop all NaNs\n",
    "best = best.dropna(subset=['words'])  # drop all NaNs"
   ]
  },
  {
   "cell_type": "markdown",
   "metadata": {
    "_cell_guid": "b18bd2dc-f6d4-485f-b281-278f51cb0640",
    "_uuid": "93ea8e27bb035ad0e0b14422be30734d98ca228a"
   },
   "source": [
    "Make dictionary from 3000 most frequent words."
   ]
  },
  {
   "cell_type": "code",
   "execution_count": 10,
   "metadata": {
    "_cell_guid": "9c7a1973-b35b-477b-853f-7c2f65b55fce",
    "_execution_state": "idle",
    "_uuid": "329281c41eb4bb42269b197ddf2b8afa5237a3b4",
    "collapsed": true
   },
   "outputs": [],
   "source": [
    "all_words = []  # initialize list of all words\n",
    "# add all words from 'worst' dataset\n",
    "for description in worst['words'].values:\n",
    "    for word in description:\n",
    "        all_words.append(word)\n",
    "# add all words from 'best' dataset\n",
    "for description in best['words'].values:\n",
    "    for word in description:\n",
    "        all_words.append(word)\n",
    "all_words = FreqDist(all_words)  # make FreqList\n",
    "words_features = list(all_words.keys())[:3000]  # select 3000 most frequent words as words features"
   ]
  },
  {
   "cell_type": "markdown",
   "metadata": {
    "_cell_guid": "112fbc4e-4822-4209-a3df-a53d0f357145",
    "_uuid": "e0e0d412d911b8fe6f802ad6d7fafbf086220799"
   },
   "source": [
    "We use 3000 long sparse vector as feature vector (0 if feature word is not presented, 1 if feature word is presented)."
   ]
  },
  {
   "cell_type": "code",
   "execution_count": 11,
   "metadata": {
    "_cell_guid": "1df32c79-bc50-4e2f-8b82-726f0115bb85",
    "_execution_state": "idle",
    "_uuid": "81290e0e179c1d7fb5056ea6947083c64154c2f7",
    "collapsed": true
   },
   "outputs": [],
   "source": [
    "%%cython\n",
    "cpdef dict find_features(list doc, list words_features):\n",
    "    \"\"\"Function for making features out of the text\"\"\"\n",
    "    cdef set words = set(doc)  # set of words in description\n",
    "    cdef dict features = {}  # feature dictionary\n",
    "    cdef str w\n",
    "    for w in words_features:  # check if any feature word is presented\n",
    "        features[w] = bool(w in words)  # write to feature vector\n",
    "    return features  # return feature vector"
   ]
  },
  {
   "cell_type": "markdown",
   "metadata": {
    "_cell_guid": "cf5e4e1e-3a66-4203-af6b-695e247ad1ac",
    "_uuid": "5e7ded54397696e08a2eb1f6bdc4d7dbb3f0290d"
   },
   "source": [
    "We make features from dataset and randomly shuffle it."
   ]
  },
  {
   "cell_type": "code",
   "execution_count": 12,
   "metadata": {
    "_cell_guid": "87b4d122-386a-446f-a722-5cca51c13a16",
    "_execution_state": "idle",
    "_uuid": "f36e6e93d75f8334309e55ff0c6dad1ad32e3414",
    "collapsed": true
   },
   "outputs": [],
   "source": [
    "featureset = ([(find_features(description, words_features), 'worst') for description in worst['words']] +\n",
    "              [(find_features(description, words_features), 'best') for description in best['words']])\n",
    "shuffle(featureset)  # randomly shuffle dataset"
   ]
  },
  {
   "cell_type": "markdown",
   "metadata": {
    "_cell_guid": "51de5efe-902a-4efb-8455-f41627d96d1b",
    "_uuid": "7d7a171cc0cd0be223499887c644f4286151fdba"
   },
   "source": [
    "Now we initialize and train classifier."
   ]
  },
  {
   "cell_type": "code",
   "execution_count": 13,
   "metadata": {
    "_cell_guid": "cea365e6-5faa-4ee4-8f79-f59ead60d458",
    "_execution_state": "idle",
    "_uuid": "5449a323443bb951e1a22dbdbd79ec64a8d33e46",
    "collapsed": true
   },
   "outputs": [],
   "source": [
    "classifier = NaiveBayesClassifier.train(labeled_featuresets=featureset)"
   ]
  },
  {
   "cell_type": "markdown",
   "metadata": {
    "_cell_guid": "ff1a69fe-1b7e-4a8d-8987-540f2c6cbfc9",
    "_uuid": "25951bcad23a9b2b0be3a2b519b04246e3ab6c03"
   },
   "source": [
    "Print most informative features."
   ]
  },
  {
   "cell_type": "code",
   "execution_count": 14,
   "metadata": {
    "_cell_guid": "73ea6221-a083-48d2-b111-96272d6d6823",
    "_execution_state": "idle",
    "_uuid": "f00e47409338511bce1f5d2754d7032fbe3da226"
   },
   "outputs": [
    {
     "name": "stdout",
     "output_type": "stream",
     "text": [
      "Most Informative Features\n",
      "                    2018 = True             best : worst  =     86.5 : 1.0\n",
      "                now–2013 = True             best : worst  =     81.7 : 1.0\n",
      "                everyday = True            worst : best   =     69.6 : 1.0\n",
      "                stunning = True             best : worst  =     48.3 : 1.0\n",
      "             outstanding = True             best : worst  =     34.1 : 1.0\n",
      "             nondescript = True            worst : best   =     31.7 : 1.0\n",
      "               inaugural = True             best : worst  =     31.0 : 1.0\n",
      "                 burgers = True            worst : best   =     30.5 : 1.0\n",
      "                   pasty = True            worst : best   =     30.3 : 1.0\n",
      "                glorious = True             best : worst  =     30.2 : 1.0\n",
      "              remarkable = True             best : worst  =     28.7 : 1.0\n",
      "              compelling = True             best : worst  =     28.4 : 1.0\n",
      "                  owners = True             best : worst  =     27.0 : 1.0\n",
      "                 grating = True            worst : best   =     27.0 : 1.0\n",
      "                   fails = True            worst : best   =     25.0 : 1.0\n",
      "                    pool = True            worst : best   =     22.3 : 1.0\n",
      "                captures = True             best : worst  =     22.1 : 1.0\n",
      "                landmark = True             best : worst  =     21.7 : 1.0\n",
      "                 immense = True             best : worst  =     21.7 : 1.0\n",
      "                  stemmy = True            worst : best   =     21.1 : 1.0\n",
      "              biodynamic = True             best : worst  =     20.4 : 1.0\n",
      "                decadent = True             best : worst  =     19.1 : 1.0\n",
      "             all-purpose = True            worst : best   =     19.0 : 1.0\n",
      "                  reined = True             best : worst  =     19.0 : 1.0\n",
      "                elevates = True             best : worst  =     19.0 : 1.0\n",
      "               harshness = True            worst : best   =     18.3 : 1.0\n",
      "                 outdoor = True            worst : best   =     17.7 : 1.0\n",
      "           cellar-worthy = True             best : worst  =     17.7 : 1.0\n",
      "                now–2011 = True             best : worst  =     17.7 : 1.0\n",
      "                   quick = True            worst : best   =     17.6 : 1.0\n",
      "                  pickle = True            worst : best   =     17.2 : 1.0\n",
      "                 rolland = True             best : worst  =     17.0 : 1.0\n",
      "                standout = True             best : worst  =     16.8 : 1.0\n",
      "             medium-term = True             best : worst  =     16.6 : 1.0\n",
      "              unfamiliar = True            worst : best   =     16.3 : 1.0\n",
      "                 develop = True             best : worst  =     15.9 : 1.0\n",
      "                deserves = True             best : worst  =     15.9 : 1.0\n",
      "                juvenile = True             best : worst  =     15.7 : 1.0\n",
      "            dramatically = True             best : worst  =     15.5 : 1.0\n",
      "                   tired = True            worst : best   =     15.1 : 1.0\n",
      "               candidate = True             best : worst  =     15.0 : 1.0\n",
      "          low-production = True             best : worst  =     15.0 : 1.0\n",
      "                  quinta = True             best : worst  =     14.8 : 1.0\n",
      "             expressions = True             best : worst  =     14.6 : 1.0\n",
      "               succeeded = True             best : worst  =     14.3 : 1.0\n",
      "                 jellied = True            worst : best   =     14.1 : 1.0\n",
      "               fantastic = True             best : worst  =     13.9 : 1.0\n",
      "              contribute = True             best : worst  =     13.9 : 1.0\n",
      "                   vista = True             best : worst  =     13.7 : 1.0\n",
      "                 epitome = True             best : worst  =     13.7 : 1.0\n"
     ]
    }
   ],
   "source": [
    "classifier.show_most_informative_features(50)"
   ]
  }
 ],
 "metadata": {
  "kernelspec": {
   "display_name": "Python 3",
   "language": "python",
   "name": "python3"
  },
  "language_info": {
   "codemirror_mode": {
    "name": "ipython",
    "version": 3
   },
   "file_extension": ".py",
   "mimetype": "text/x-python",
   "name": "python",
   "nbconvert_exporter": "python",
   "pygments_lexer": "ipython3",
   "version": "3.5.2"
  }
 },
 "nbformat": 4,
 "nbformat_minor": 2
}
