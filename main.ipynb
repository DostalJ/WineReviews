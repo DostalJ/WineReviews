{
 "cells": [
  {
   "cell_type": "markdown",
   "metadata": {},
   "source": [
    "# Wine Classification\n",
    "We try to classify wines to *\"bad\"* and *\"good\"* wines using Naive Bayes Classifier in order to explore difference between words used to describe *\"bad\"* and *\"good\"*."
   ]
  },
  {
   "cell_type": "code",
   "execution_count": 21,
   "metadata": {
    "collapsed": true
   },
   "outputs": [],
   "source": [
    "import pandas as pd\n",
    "from nltk.tokenize import word_tokenize\n",
    "import matplotlib.pyplot as plt\n",
    "from matplotlib.style import use\n",
    "use('fivethirtyeight')"
   ]
  },
  {
   "cell_type": "code",
   "execution_count": 22,
   "metadata": {},
   "outputs": [
    {
     "data": {
      "text/html": [
       "<div>\n",
       "<style>\n",
       "    .dataframe thead tr:only-child th {\n",
       "        text-align: right;\n",
       "    }\n",
       "\n",
       "    .dataframe thead th {\n",
       "        text-align: left;\n",
       "    }\n",
       "\n",
       "    .dataframe tbody tr th {\n",
       "        vertical-align: top;\n",
       "    }\n",
       "</style>\n",
       "<table border=\"1\" class=\"dataframe\">\n",
       "  <thead>\n",
       "    <tr style=\"text-align: right;\">\n",
       "      <th></th>\n",
       "      <th>Unnamed: 0</th>\n",
       "      <th>country</th>\n",
       "      <th>description</th>\n",
       "      <th>designation</th>\n",
       "      <th>points</th>\n",
       "      <th>price</th>\n",
       "      <th>province</th>\n",
       "      <th>region_1</th>\n",
       "      <th>region_2</th>\n",
       "      <th>variety</th>\n",
       "      <th>winery</th>\n",
       "    </tr>\n",
       "  </thead>\n",
       "  <tbody>\n",
       "    <tr>\n",
       "      <th>0</th>\n",
       "      <td>0</td>\n",
       "      <td>US</td>\n",
       "      <td>This tremendous 100% varietal wine hails from ...</td>\n",
       "      <td>Martha's Vineyard</td>\n",
       "      <td>96</td>\n",
       "      <td>235.0</td>\n",
       "      <td>California</td>\n",
       "      <td>Napa Valley</td>\n",
       "      <td>Napa</td>\n",
       "      <td>Cabernet Sauvignon</td>\n",
       "      <td>Heitz</td>\n",
       "    </tr>\n",
       "    <tr>\n",
       "      <th>1</th>\n",
       "      <td>1</td>\n",
       "      <td>Spain</td>\n",
       "      <td>Ripe aromas of fig, blackberry and cassis are ...</td>\n",
       "      <td>Carodorum Selección Especial Reserva</td>\n",
       "      <td>96</td>\n",
       "      <td>110.0</td>\n",
       "      <td>Northern Spain</td>\n",
       "      <td>Toro</td>\n",
       "      <td>NaN</td>\n",
       "      <td>Tinta de Toro</td>\n",
       "      <td>Bodega Carmen Rodríguez</td>\n",
       "    </tr>\n",
       "    <tr>\n",
       "      <th>2</th>\n",
       "      <td>2</td>\n",
       "      <td>US</td>\n",
       "      <td>Mac Watson honors the memory of a wine once ma...</td>\n",
       "      <td>Special Selected Late Harvest</td>\n",
       "      <td>96</td>\n",
       "      <td>90.0</td>\n",
       "      <td>California</td>\n",
       "      <td>Knights Valley</td>\n",
       "      <td>Sonoma</td>\n",
       "      <td>Sauvignon Blanc</td>\n",
       "      <td>Macauley</td>\n",
       "    </tr>\n",
       "    <tr>\n",
       "      <th>3</th>\n",
       "      <td>3</td>\n",
       "      <td>US</td>\n",
       "      <td>This spent 20 months in 30% new French oak, an...</td>\n",
       "      <td>Reserve</td>\n",
       "      <td>96</td>\n",
       "      <td>65.0</td>\n",
       "      <td>Oregon</td>\n",
       "      <td>Willamette Valley</td>\n",
       "      <td>Willamette Valley</td>\n",
       "      <td>Pinot Noir</td>\n",
       "      <td>Ponzi</td>\n",
       "    </tr>\n",
       "    <tr>\n",
       "      <th>4</th>\n",
       "      <td>4</td>\n",
       "      <td>France</td>\n",
       "      <td>This is the top wine from La Bégude, named aft...</td>\n",
       "      <td>La Brûlade</td>\n",
       "      <td>95</td>\n",
       "      <td>66.0</td>\n",
       "      <td>Provence</td>\n",
       "      <td>Bandol</td>\n",
       "      <td>NaN</td>\n",
       "      <td>Provence red blend</td>\n",
       "      <td>Domaine de la Bégude</td>\n",
       "    </tr>\n",
       "  </tbody>\n",
       "</table>\n",
       "</div>"
      ],
      "text/plain": [
       "   Unnamed: 0 country                                        description  \\\n",
       "0           0      US  This tremendous 100% varietal wine hails from ...   \n",
       "1           1   Spain  Ripe aromas of fig, blackberry and cassis are ...   \n",
       "2           2      US  Mac Watson honors the memory of a wine once ma...   \n",
       "3           3      US  This spent 20 months in 30% new French oak, an...   \n",
       "4           4  France  This is the top wine from La Bégude, named aft...   \n",
       "\n",
       "                            designation  points  price        province  \\\n",
       "0                     Martha's Vineyard      96  235.0      California   \n",
       "1  Carodorum Selección Especial Reserva      96  110.0  Northern Spain   \n",
       "2         Special Selected Late Harvest      96   90.0      California   \n",
       "3                               Reserve      96   65.0          Oregon   \n",
       "4                            La Brûlade      95   66.0        Provence   \n",
       "\n",
       "            region_1           region_2             variety  \\\n",
       "0        Napa Valley               Napa  Cabernet Sauvignon   \n",
       "1               Toro                NaN       Tinta de Toro   \n",
       "2     Knights Valley             Sonoma     Sauvignon Blanc   \n",
       "3  Willamette Valley  Willamette Valley          Pinot Noir   \n",
       "4             Bandol                NaN  Provence red blend   \n",
       "\n",
       "                    winery  \n",
       "0                    Heitz  \n",
       "1  Bodega Carmen Rodríguez  \n",
       "2                 Macauley  \n",
       "3                    Ponzi  \n",
       "4     Domaine de la Bégude  "
      ]
     },
     "execution_count": 22,
     "metadata": {},
     "output_type": "execute_result"
    }
   ],
   "source": [
    "df = pd.read_csv('./data/winemag-data_first150k.csv')\n",
    "df.head(5)"
   ]
  },
  {
   "cell_type": "code",
   "execution_count": 23,
   "metadata": {},
   "outputs": [],
   "source": [
    "# df['description'].apply(func=lambda text: len(word_tokenize(text))).hist()\n",
    "# plt.title('Number of words used to describe a wine.')\n",
    "# plt.xlabel('Number of words in description.')\n",
    "# plt.ylabel('Number of reviews.')\n",
    "# plt.show()"
   ]
  },
  {
   "cell_type": "markdown",
   "metadata": {},
   "source": [
    "### Data Features\n",
    "- *Points*: the number of points WineEnthusiast rated the wine on a scale of 1-100 (though they say they only post reviews for wines that score >=80)\n",
    "- *Variety*: the type of grapes used to make the wine (ie Pinot Noir)\n",
    "- *Description*: a few sentences from a sommelier describing the wine's taste, smell, look, feel, etc.\n",
    "- *Country*: the country that the wine is from\n",
    "- *Province*: the province or state that the wine is from\n",
    "- *Region 1*: the wine growing area in a province or state (ie Napa)\n",
    "- *Region 2*: sometimes there are more specific regions specified within a wine growing area (ie Rutherford inside the Napa Valley), but this value can sometimes be blank\n",
    "- *Winery*: the winery that made the wine\n",
    "- *Designation*: the vineyard within the winery where the grapes that made the wine are from\n",
    "- *Price*: the cost for a bottle of the wine"
   ]
  },
  {
   "cell_type": "markdown",
   "metadata": {},
   "source": [
    "### Explore feature distribution\n",
    "We are looking for good labels, i.e. indicators of quality of the wine. We'll explore *Points* and *Price* features."
   ]
  },
  {
   "cell_type": "code",
   "execution_count": 24,
   "metadata": {},
   "outputs": [
    {
     "data": {
      "image/png": "[encoded data removed]",
      "text/plain": [
       "<matplotlib.figure.Figure at 0x4602152b0>"
      ]
     },
     "metadata": {},
     "output_type": "display_data"
    }
   ],
   "source": [
    "df = df.dropna(subset=['price', 'points'])\n",
    "df[['price', 'points']].hist(layout=(2,1))\n",
    "plt.show()"
   ]
  },
  {
   "cell_type": "code",
   "execution_count": 25,
   "metadata": {},
   "outputs": [
    {
     "data": {
      "image/png": "[encoded data removed]",
      "text/plain": [
       "<matplotlib.figure.Figure at 0x457ef46a0>"
      ]
     },
     "metadata": {},
     "output_type": "display_data"
    }
   ],
   "source": [
    "plt.scatter(df['points'], df['price'])\n",
    "plt.xlabel('Points')\n",
    "plt.ylabel('Price')\n",
    "plt.show()"
   ]
  },
  {
   "cell_type": "markdown",
   "metadata": {},
   "source": [
    "We can see that prize does not add much information. We'll use only *points* as the feature."
   ]
  },
  {
   "cell_type": "markdown",
   "metadata": {},
   "source": [
    "## Classification\n",
    "We'll try to classify the best wines and the worst wines in the dataset. We use 25% of wines with lowest number of points as *\"bad\"* wines and 25% of wines with the highest number of points as the *\"good\"* wines."
   ]
  },
  {
   "cell_type": "code",
   "execution_count": 26,
   "metadata": {
    "collapsed": true
   },
   "outputs": [],
   "source": [
    "df = df.dropna(subset=['description'])  # drop all NaNs\n",
    "\n",
    "df_sorted = df.sort_values(by='points', ascending=True)  # sort by points\n",
    "\n",
    "num_of_wines = df_sorted.shape[0]  # number of wines\n",
    "worst = df_sorted.head(int(0.25*num_of_wines))  # 25 % of worst wines listed\n",
    "best = df_sorted.tail(int(0.25*num_of_wines))  # 25 % of best wines listed"
   ]
  },
  {
   "cell_type": "code",
   "execution_count": 27,
   "metadata": {},
   "outputs": [
    {
     "data": {
      "image/png": "[encoded data removed]",
      "text/plain": [
       "<matplotlib.figure.Figure at 0x11e1ba3c8>"
      ]
     },
     "metadata": {},
     "output_type": "display_data"
    }
   ],
   "source": [
    "plt.hist(df['points'], color='grey', label='All')\n",
    "plt.hist(worst['points'], color='blue', label='Worst')\n",
    "plt.hist(best['points'], color='red', label='Best')\n",
    "plt.legend()\n",
    "plt.show()"
   ]
  },
  {
   "cell_type": "code",
   "execution_count": 28,
   "metadata": {
    "collapsed": true
   },
   "outputs": [],
   "source": [
    "from nltk.tokenize import word_tokenize\n",
    "from nltk import FreqDist, NaiveBayesClassifier\n",
    "from random import shuffle"
   ]
  },
  {
   "cell_type": "markdown",
   "metadata": {},
   "source": [
    "First we lower all words in description."
   ]
  },
  {
   "cell_type": "code",
   "execution_count": 29,
   "metadata": {},
   "outputs": [
    {
     "name": "stderr",
     "output_type": "stream",
     "text": [
      "/Library/Frameworks/Python.framework/Versions/3.5/lib/python3.5/site-packages/ipykernel_launcher.py:1: SettingWithCopyWarning: \n",
      "A value is trying to be set on a copy of a slice from a DataFrame.\n",
      "Try using .loc[row_indexer,col_indexer] = value instead\n",
      "\n",
      "See the caveats in the documentation: http://pandas.pydata.org/pandas-docs/stable/indexing.html#indexing-view-versus-copy\n",
      "  \"\"\"Entry point for launching an IPython kernel.\n",
      "/Library/Frameworks/Python.framework/Versions/3.5/lib/python3.5/site-packages/ipykernel_launcher.py:2: SettingWithCopyWarning: \n",
      "A value is trying to be set on a copy of a slice from a DataFrame.\n",
      "Try using .loc[row_indexer,col_indexer] = value instead\n",
      "\n",
      "See the caveats in the documentation: http://pandas.pydata.org/pandas-docs/stable/indexing.html#indexing-view-versus-copy\n",
      "  \n"
     ]
    }
   ],
   "source": [
    "worst['words'] = worst['description'].apply(func=lambda text: word_tokenize(text.lower()))\n",
    "best['words'] = best['description'].apply(func=lambda text: word_tokenize(text.lower()))\n",
    "worst = worst.dropna(subset=['words'])  # drop all NaNs\n",
    "best = best.dropna(subset=['words'])  # drop all NaNs"
   ]
  },
  {
   "cell_type": "markdown",
   "metadata": {},
   "source": [
    "Make dictionary from 3000 most frequent words"
   ]
  },
  {
   "cell_type": "code",
   "execution_count": 30,
   "metadata": {
    "collapsed": true
   },
   "outputs": [],
   "source": [
    "all_words = []  # initialize list of all words\n",
    "# add all words from 'worst' dataset\n",
    "for description in worst['words'].values:\n",
    "    for word in description:\n",
    "        all_words.append(word)\n",
    "# add all words from 'best' dataset\n",
    "for description in best['words'].values:\n",
    "    for word in description:\n",
    "        all_words.append(word)\n",
    "all_words = FreqDist(all_words)  # make FreqList\n",
    "words_features = list(all_words.keys())[:3000]  # select 3000 most frequent words as words features"
   ]
  },
  {
   "cell_type": "markdown",
   "metadata": {},
   "source": [
    "We use 3000 long sparse vector as feature vector (0 if feature word is not presented, 1 if feature word is presented)."
   ]
  },
  {
   "cell_type": "code",
   "execution_count": 31,
   "metadata": {
    "collapsed": true
   },
   "outputs": [],
   "source": [
    "def find_features(doc):\n",
    "    \"\"\"Function for making features out of the text\"\"\"\n",
    "    words = set(doc)  # set of words in description\n",
    "    features = {}  # feature dictionary\n",
    "    for w in words_features:  # check if any feature word is presented\n",
    "        features[w] = bool(w in words)  # write to feature vector\n",
    "    return features  # return feature vector"
   ]
  },
  {
   "cell_type": "markdown",
   "metadata": {},
   "source": [
    "Now, we make features from dataset and randomly shuffle it."
   ]
  },
  {
   "cell_type": "code",
   "execution_count": 32,
   "metadata": {
    "collapsed": true
   },
   "outputs": [],
   "source": [
    "featureset = ([(find_features(description), 'worst') for description in worst['words']] +\n",
    "              [(find_features(description), 'best') for description in best['words']])\n",
    "shuffle(featureset)  # randomly shuffle dataset"
   ]
  },
  {
   "cell_type": "markdown",
   "metadata": {},
   "source": [
    "Now we initialize and train classifier."
   ]
  },
  {
   "cell_type": "code",
   "execution_count": 33,
   "metadata": {
    "collapsed": true
   },
   "outputs": [],
   "source": [
    "classifier = NaiveBayesClassifier.train(labeled_featuresets=featureset)"
   ]
  },
  {
   "cell_type": "markdown",
   "metadata": {},
   "source": [
    "Print most informative features."
   ]
  },
  {
   "cell_type": "code",
   "execution_count": 35,
   "metadata": {},
   "outputs": [
    {
     "name": "stdout",
     "output_type": "stream",
     "text": [
      "Most Informative Features\n",
      "                    2020 = True             best : worst  =    294.3 : 1.0\n",
      "                  superb = True             best : worst  =     83.3 : 1.0\n",
      "             exceptional = True             best : worst  =     55.2 : 1.0\n",
      "                     o.k = True            worst : best   =     53.0 : 1.0\n",
      "                now–2012 = True             best : worst  =     47.8 : 1.0\n",
      "                gorgeous = True             best : worst  =     46.5 : 1.0\n",
      "            long-lasting = True             best : worst  =     45.2 : 1.0\n",
      "                  selyem = True             best : worst  =     44.3 : 1.0\n",
      "                   porty = True            worst : best   =     43.5 : 1.0\n",
      "               designate = True             best : worst  =     43.0 : 1.0\n",
      "             tantalizing = True             best : worst  =     41.0 : 1.0\n",
      "                 wayward = True            worst : best   =     41.0 : 1.0\n",
      "                 generic = True            worst : best   =     40.5 : 1.0\n",
      "                  decent = True            worst : best   =     38.0 : 1.0\n",
      "                   pizza = True            worst : best   =     36.3 : 1.0\n",
      "             nondescript = True            worst : best   =     31.7 : 1.0\n",
      "               confected = True            worst : best   =     29.2 : 1.0\n",
      "              easy-going = True            worst : best   =     29.0 : 1.0\n",
      "                  owners = True             best : worst  =     27.0 : 1.0\n",
      "                  feline = True            worst : best   =     26.6 : 1.0\n",
      "                    2014 = True             best : worst  =     25.7 : 1.0\n",
      "                   weird = True            worst : best   =     25.0 : 1.0\n",
      "                   spiky = True            worst : best   =     24.3 : 1.0\n",
      "                monotone = True            worst : best   =     24.3 : 1.0\n",
      "             off-putting = True            worst : best   =     23.4 : 1.0\n",
      "                flatness = True            worst : best   =     23.0 : 1.0\n",
      "              determined = True             best : worst  =     22.6 : 1.0\n",
      "         approachability = True             best : worst  =     22.3 : 1.0\n",
      "                    2012 = True             best : worst  =     22.2 : 1.0\n",
      "                  shaped = True             best : worst  =     21.8 : 1.0\n",
      "                     cru = True             best : worst  =     19.6 : 1.0\n",
      "                decadent = True             best : worst  =     19.1 : 1.0\n",
      "           authoritative = True             best : worst  =     19.0 : 1.0\n",
      "             all-purpose = True            worst : best   =     19.0 : 1.0\n",
      "            intoxicating = True             best : worst  =     18.6 : 1.0\n",
      "                 notions = True             best : worst  =     18.2 : 1.0\n",
      "                   dirty = True            worst : best   =     17.7 : 1.0\n",
      "             medium-term = True             best : worst  =     16.6 : 1.0\n",
      "                 densely = True             best : worst  =     16.6 : 1.0\n",
      "                expertly = True             best : worst  =     16.2 : 1.0\n",
      "             contributes = True             best : worst  =     15.9 : 1.0\n",
      "                   years = True             best : worst  =     15.9 : 1.0\n",
      "                   eight = True             best : worst  =     15.4 : 1.0\n",
      "                 granite = True             best : worst  =     15.4 : 1.0\n",
      "                evolving = True             best : worst  =     14.1 : 1.0\n",
      "               expresses = True             best : worst  =     14.1 : 1.0\n",
      "                   tacos = True            worst : best   =     13.8 : 1.0\n",
      "                farmyard = True            worst : best   =     13.7 : 1.0\n",
      "                  lovely = True             best : worst  =     13.6 : 1.0\n",
      "                    riot = True             best : worst  =     13.4 : 1.0\n"
     ]
    }
   ],
   "source": [
    "classifier.show_most_informative_features(50)"
   ]
  }
 ],
 "metadata": {
  "kernelspec": {
   "display_name": "Python 3",
   "language": "python",
   "name": "python3"
  },
  "language_info": {
   "codemirror_mode": {
    "name": "ipython",
    "version": 3
   },
   "file_extension": ".py",
   "mimetype": "text/x-python",
   "name": "python",
   "nbconvert_exporter": "python",
   "pygments_lexer": "ipython3",
   "version": "3.5.2"
  }
 },
 "nbformat": 4,
 "nbformat_minor": 2
}
